{
 "cells": [
  {
   "cell_type": "code",
   "execution_count": 13,
   "id": "0f3570f1",
   "metadata": {},
   "outputs": [],
   "source": [
    "import pickle\n",
    "from sklearn.linear_model import LinearRegression\n",
    "from sklearn.preprocessing import PolynomialFeatures"
   ]
  },
  {
   "cell_type": "code",
   "execution_count": 14,
   "id": "856fa2cf",
   "metadata": {},
   "outputs": [],
   "source": [
    "train_file = open(\"train_dataset.pickle\",\"rb\")"
   ]
  },
  {
   "cell_type": "code",
   "execution_count": 15,
   "id": "212f5067",
   "metadata": {},
   "outputs": [
    {
     "data": {
      "text/plain": [
       "0"
      ]
     },
     "execution_count": 15,
     "metadata": {},
     "output_type": "execute_result"
    }
   ],
   "source": [
    "train_file.seek(0)"
   ]
  },
  {
   "cell_type": "code",
   "execution_count": 16,
   "id": "d51a5499",
   "metadata": {},
   "outputs": [],
   "source": [
    "Train = pickle.load(train_file)"
   ]
  },
  {
   "cell_type": "code",
   "execution_count": 17,
   "id": "6325e117",
   "metadata": {},
   "outputs": [],
   "source": [
    "import numpy as np"
   ]
  },
  {
   "cell_type": "code",
   "execution_count": 18,
   "id": "19ebfedb",
   "metadata": {},
   "outputs": [],
   "source": [
    "np.random.shuffle(Train)"
   ]
  },
  {
   "cell_type": "code",
   "execution_count": 19,
   "id": "335b8525",
   "metadata": {},
   "outputs": [],
   "source": [
    "Train = np.split(Train, 20)"
   ]
  },
  {
   "cell_type": "code",
   "execution_count": 20,
   "id": "88719c72",
   "metadata": {},
   "outputs": [],
   "source": [
    "for i in range(len(Train)):\n",
    "    Train[i] = np.split(Train[i], 2, axis = 1)"
   ]
  },
  {
   "cell_type": "code",
   "execution_count": 21,
   "id": "ed2d053e",
   "metadata": {},
   "outputs": [],
   "source": [
    "test_file = open(\"test_dataset.pickle\",\"rb\")\n",
    "Test = pickle.load(test_file)\n",
    "Test = np.split(Test, 2, axis = 1)"
   ]
  },
  {
   "cell_type": "code",
   "execution_count": 22,
   "id": "408e6ef1",
   "metadata": {
    "scrolled": false
   },
   "outputs": [
    {
     "name": "stdout",
     "output_type": "stream",
     "text": [
      "1 :\n",
      "0.26989619888569366\n",
      "0.007744736667393074\n",
      "3.91700560875563e-17\n",
      "2 :\n",
      "0.08676442478975882\n",
      "0.001025630056046548\n",
      "4.5628648429052455e-18\n",
      "3 :\n",
      "0.03347353828582504\n",
      "0.00037280679016533127\n",
      "1.2628244804024914e-18\n",
      "4 :\n",
      "0.024538836464311837\n",
      "0.00040873793994757247\n",
      "-7.082550691761557e-19\n",
      "5 :\n",
      "0.024198692825535734\n",
      "0.000670690995641298\n",
      "-3.875074089734754e-18\n",
      "6 :\n",
      "0.023682640408209926\n",
      "0.0007787075676527011\n",
      "1.850733108432756e-18\n",
      "7 :\n",
      "0.024594970416211892\n",
      "0.0012291598062910368\n",
      "-1.5468854495936935e-18\n",
      "8 :\n",
      "0.024927988149918808\n",
      "0.0019183218264712362\n",
      "-3.3810844748960454e-18\n",
      "9 :\n",
      "0.02629682968084606\n",
      "0.004457014734405403\n",
      "2.007264797085351e-18\n",
      "10 :\n",
      "0.028596892522212307\n",
      "0.009943358118258387\n",
      "4.366353199142248e-18\n",
      "11 :\n",
      "0.02919084561625966\n",
      "0.05520518402898727\n",
      "5.859028540111666e-18\n",
      "12 :\n",
      "0.03519487467236138\n",
      "0.07652514659659233\n",
      "-1.4297238523294787e-17\n",
      "13 :\n",
      "0.06946266824917025\n",
      "1.8345763253236311\n",
      "6.240288234066194e-17\n",
      "14 :\n",
      "0.07477526276621624\n",
      "1.0992938724231682\n",
      "6.747044329485918e-17\n",
      "15 :\n",
      "0.24348675574937734\n",
      "11.256754725208173\n",
      "-7.626432580072617e-16\n"
     ]
    }
   ],
   "source": [
    "biases = []\n",
    "variance_degs = []\n",
    "MSEs = []\n",
    "degrees = []\n",
    "for deg in range(1,16):\n",
    "    values = []\n",
    "    bias_values = np.zeros(200)\n",
    "    mse = np.zeros(200)\n",
    "    poly = PolynomialFeatures(degree=deg)\n",
    "    for i in range(20):\n",
    "        model = LinearRegression()\n",
    "        model.fit(poly.fit_transform(Train[i][0]), Train[i][1])\n",
    "        pred = model.predict(poly.fit_transform(Test[0]))\n",
    "        values.append(pred)\n",
    "        bias_values = np.add(bias_values,pred)\n",
    "        mse = np.add(np.square(np.subtract(pred,Test[1])),mse)\n",
    "    avg_bias = np.mean(np.abs(np.subtract(np.divide(bias_values,20),Test[1])))\n",
    "    values = np.array(values)\n",
    "#     print(np.var(values, axis = 0 ))\n",
    "    avg_var = np.mean(np.var(values, axis = 0))\n",
    "    avg_ie = np.mean(np.subtract(np.divide(mse,20), np.add(np.square(np.abs(np.subtract(np.divide(bias_values,20),Test[1]))), np.var(values, axis = 0))))\n",
    "    if(deg<=10):\n",
    "        degrees.append(deg)\n",
    "    #     print(values)\n",
    "        biases.append(avg_bias*avg_bias)\n",
    "        MSEs.append(np.mean(np.divide(mse,20)))\n",
    "        variance_degs.append(avg_var)    \n",
    "    print(deg,\":\")\n",
    "    print(avg_bias)\n",
    "    print(avg_var)\n",
    "    print(avg_ie)"
   ]
  },
  {
   "cell_type": "code",
   "execution_count": 23,
   "id": "fa3b9ce8",
   "metadata": {},
   "outputs": [],
   "source": [
    "import matplotlib.pyplot as plt"
   ]
  },
  {
   "cell_type": "code",
   "execution_count": 24,
   "id": "b8637bf8",
   "metadata": {},
   "outputs": [
    {
     "data": {
      "image/png": "[encoded data removed]",
      "text/plain": [
       "<Figure size 432x288 with 1 Axes>"
      ]
     },
     "metadata": {
      "needs_background": "light"
     },
     "output_type": "display_data"
    }
   ],
   "source": [
    "fig, ax = plt.subplots()\n",
    "ax.plot(degrees, biases, color = 'red', label = '$Bias^2$')\n",
    "ax.plot(degrees, variance_degs, color = 'green', label = '$Variance$')\n",
    "ax.plot(degrees, MSEs, color = 'blue', label = '$MSE$')\n",
    "\n",
    "ax.set_xlabel('Degrees')\n",
    "ax.legend()\n",
    "\n",
    "plt.show()"
   ]
  },
  {
   "cell_type": "code",
   "execution_count": null,
   "id": "0dfedcdd",
   "metadata": {},
   "outputs": [],
   "source": []
  }
 ],
 "metadata": {
  "kernelspec": {
   "display_name": "Python 3 (ipykernel)",
   "language": "python",
   "name": "python3"
  },
  "language_info": {
   "codemirror_mode": {
    "name": "ipython",
    "version": 3
   },
   "file_extension": ".py",
   "mimetype": "text/x-python",
   "name": "python",
   "nbconvert_exporter": "python",
   "pygments_lexer": "ipython3",
   "version": "3.10.0"
  },
  "vscode": {
   "interpreter": {
    "hash": "171297e6988badb5fc12d8ad1132fd3fbce21d89ce466d6887d0f58c05583363"
   }
  }
 },
 "nbformat": 4,
 "nbformat_minor": 5
}
